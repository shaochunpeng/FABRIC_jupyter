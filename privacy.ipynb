{
 "cells": [
  {
   "cell_type": "markdown",
   "id": "b7586f42-7c7d-4ac1-a65d-13c465d18de7",
   "metadata": {},
   "source": [
    "# Privacy Test"
   ]
  },
  {
   "cell_type": "markdown",
   "id": "ed3e9ece-4a1d-4d46-829e-cd8052091ed3",
   "metadata": {},
   "source": [
    "#### Environment setup"
   ]
  },
  {
   "cell_type": "code",
   "execution_count": 1,
   "id": "26caea41-b1b2-49e2-acc5-465c867e7262",
   "metadata": {},
   "outputs": [
    {
     "name": "stdout",
     "output_type": "stream",
     "text": [
      "DONE - ENVIRONMENT SETUP\n"
     ]
    }
   ],
   "source": [
    "import os\n",
    "\n",
    "# Set your FABRIC PROJECT ID\n",
    "os.environ['FABRIC_PROJECT_ID']='53070d82-aa8c-4450-b9aa-dc8b91098efa'\n",
    "\n",
    "# Bastion IPs\n",
    "os.environ['FABRIC_BASTION_HOST'] = 'bastion-1.fabric-testbed.net'\n",
    "\n",
    "# Set your Bastion username and private key\n",
    "os.environ['FABRIC_BASTION_USERNAME']='chunpes_0050449918'\n",
    "os.environ['FABRIC_BASTION_KEY_LOCATION']=os.environ['HOME']+'/work/chunpeng/chunpeng'\n",
    "\n",
    "# Set the keypair FABRIC will install in your slice. \n",
    "os.environ['FABRIC_SLICE_PRIVATE_KEY_FILE']=os.environ['HOME']+'/.ssh/id_rsa'\n",
    "os.environ['FABRIC_SLICE_PUBLIC_KEY_FILE']=os.environ['HOME']+'/.ssh/id_rsa.pub'\n",
    "\n",
    "print(\"DONE - ENVIRONMENT SETUP\")"
   ]
  },
  {
   "cell_type": "markdown",
   "id": "0adf4036-f241-4cb2-8b3c-92290360c1db",
   "metadata": {},
   "source": [
    "#### Import fablib"
   ]
  },
  {
   "cell_type": "code",
   "execution_count": 2,
   "id": "b18b298c-4530-4fb3-864e-e6bdef497cc8",
   "metadata": {},
   "outputs": [
    {
     "name": "stdout",
     "output_type": "stream",
     "text": [
      "DONE - import FABLib\n"
     ]
    }
   ],
   "source": [
    "import json\n",
    "import traceback\n",
    "from fabrictestbed_extensions.fablib.fablib import fablib\n",
    "\n",
    "print(\"DONE - import FABLib\")"
   ]
  },
  {
   "cell_type": "markdown",
   "id": "7ef35174-8af0-46a8-aaad-be6f9d213d41",
   "metadata": {},
   "source": [
    "#### CREATE SLICE\n",
    "Skip if already created."
   ]
  },
  {
   "cell_type": "code",
   "execution_count": 3,
   "id": "c0ad171b-6932-431b-b54c-6fb37a670776",
   "metadata": {},
   "outputs": [
    {
     "name": "stdout",
     "output_type": "stream",
     "text": [
      "\n",
      "-----------  ------------------------------------\n",
      "Slice Name   privacy_test\n",
      "Slice ID     bdddaba0-f805-4267-829f-b50ea94aa7ac\n",
      "Slice State  StableOK\n",
      "Lease End    2022-07-17 10:45:46 +0000\n",
      "-----------  ------------------------------------\n",
      "\n",
      "Retry: 6, Time: 82 sec\n",
      "\n",
      "ID                                    Name    Site    Host                          Cores    RAM    Disk  Image              Management IP    State    Error\n",
      "------------------------------------  ------  ------  --------------------------  -------  -----  ------  -----------------  ---------------  -------  -------\n",
      "0c8a6cd0-813a-4ba5-b4ef-d7ae62b961a9  Node1   TACC    tacc-w2.fabric-testbed.net        2      8      10  default_ubuntu_20  129.114.110.71   Active\n",
      "0ac580a9-d902-486f-8a63-3e129c8024c8  Node2   TACC    tacc-w2.fabric-testbed.net        2      8      10  default_ubuntu_20  129.114.110.112  Active\n",
      "\n",
      "Time to stable 82 seconds\n",
      "Running post_boot_config ... Time to post boot config 89 seconds\n",
      "\n",
      "Name           Node    Network      Bandwidth  VLAN    MAC                Physical OS Interface    OS Interface\n",
      "-------------  ------  ---------  -----------  ------  -----------------  -----------------------  --------------\n",
      "Node1-nic1-p1  Node1   net1                 0          06:A8:0F:D7:32:FB  ens7                     ens7\n",
      "Node2-nic2-p1  Node2   net2                 0          0A:03:0A:F5:B1:53  ens7                     ens7\n",
      "\n",
      "Time to print interfaces 94 seconds\n",
      "DONE - CREATE SLICE\n"
     ]
    }
   ],
   "source": [
    "try:\n",
    "    slice_name = 'privacy_test'\n",
    "    slice = fablib.new_slice(name=slice_name)\n",
    "    \n",
    "    node1 = slice.add_node(name='Node1', \n",
    "                          site='TACC', \n",
    "                          cores=2, \n",
    "                          ram=8, \n",
    "                          disk=10, \n",
    "                          image='default_ubuntu_20')\n",
    "    \n",
    "    node2 = slice.add_node(name='Node2', \n",
    "                          site='TACC', \n",
    "                          cores=2, \n",
    "                          ram=8, \n",
    "                          disk=10, \n",
    "                          image='default_ubuntu_20')\n",
    "    \n",
    "    network1_name = 'net1'\n",
    "    network2_name = 'net2'\n",
    "    node1_nic_name = 'nic1'\n",
    "    node2_nic_name = 'nic2'\n",
    "    iface1 = node1.add_component(model='NIC_Basic', name=node1_nic_name).get_interfaces()[0]\n",
    "    iface2 = node2.add_component(model='NIC_Basic', name=node2_nic_name).get_interfaces()[0]\n",
    "\n",
    "    net1 = slice.add_l3network(name=network1_name, interfaces=[iface1], type='IPv4')\n",
    "    net2 = slice.add_l3network(name=network2_name, interfaces=[iface2], type='IPv4')\n",
    "\n",
    "    slice.submit()\n",
    "    print(\"DONE - CREATE SLICE\")\n",
    "except Exception as e:\n",
    "    print(f\"Exception: {e}\")"
   ]
  },
  {
   "cell_type": "markdown",
   "id": "7ba5f466-0833-4455-9a10-201f0a58daae",
   "metadata": {},
   "source": [
    "#### Get Slice and Node"
   ]
  },
  {
   "cell_type": "code",
   "execution_count": 4,
   "id": "2f030b8a-f036-4377-9ae7-156a3a6d1df1",
   "metadata": {},
   "outputs": [
    {
     "name": "stdout",
     "output_type": "stream",
     "text": [
      "-----------  ------------------------------------\n",
      "Slice Name   privacy_test\n",
      "Slice ID     bdddaba0-f805-4267-829f-b50ea94aa7ac\n",
      "Slice State  StableOK\n",
      "Lease End    2022-07-17 10:45:46 +0000\n",
      "-----------  ------------------------------------\n"
     ]
    }
   ],
   "source": [
    "slice_name='privacy_test'\n",
    "\n",
    "try:\n",
    "    slice = fablib.get_slice(name=slice_name)\n",
    "    print(f\"{slice}\")\n",
    "    \n",
    "except Exception as e:\n",
    "    print(f\"Exception: {e}\")"
   ]
  },
  {
   "cell_type": "markdown",
   "id": "ae080c0b-fd04-49f0-b970-b84f57f440fe",
   "metadata": {},
   "source": [
    "#### Check Nodes"
   ]
  },
  {
   "cell_type": "code",
   "execution_count": 5,
   "id": "6848747a-fc48-440f-9db0-e0e4fe7ea6b3",
   "metadata": {},
   "outputs": [
    {
     "name": "stdout",
     "output_type": "stream",
     "text": [
      "ID                                    Name    Site    Host                          Cores    RAM    Disk  Image              Management IP    State    Error\n",
      "------------------------------------  ------  ------  --------------------------  -------  -----  ------  -----------------  ---------------  -------  -------\n",
      "0c8a6cd0-813a-4ba5-b4ef-d7ae62b961a9  Node1   TACC    tacc-w2.fabric-testbed.net        2      8      10  default_ubuntu_20  129.114.110.71   Active\n",
      "0ac580a9-d902-486f-8a63-3e129c8024c8  Node2   TACC    tacc-w2.fabric-testbed.net        2      8      10  default_ubuntu_20  129.114.110.112  Active\n"
     ]
    }
   ],
   "source": [
    "try:\n",
    "    print(f\"{slice.list_nodes()}\")\n",
    "except Exception as e:\n",
    "    print(f\"Exception: {e}\")"
   ]
  },
  {
   "cell_type": "markdown",
   "id": "1874df9f-c0c7-45aa-ba3d-f256652a917a",
   "metadata": {},
   "source": [
    "#### Get SSH command"
   ]
  },
  {
   "cell_type": "code",
   "execution_count": 6,
   "id": "0e0afaab-4e3e-4c3a-bf41-6fdd81e5bef8",
   "metadata": {},
   "outputs": [
    {
     "name": "stdout",
     "output_type": "stream",
     "text": [
      "SSH COMMAND: ssh -i /home/fabric/.ssh/id_rsa -J chunpes_0050449918@bastion-1.fabric-testbed.net ubuntu@129.114.110.71\n",
      "SSH COMMAND: ssh -i /home/fabric/.ssh/id_rsa -J chunpes_0050449918@bastion-1.fabric-testbed.net ubuntu@129.114.110.112\n"
     ]
    }
   ],
   "source": [
    "try:\n",
    "    nodetemp = slice.get_node(name='Node1')\n",
    "    print(f\"SSH COMMAND: {nodetemp.get_ssh_command()}\")\n",
    "    nodetemp = slice.get_node(name='Node2')\n",
    "    print(f\"SSH COMMAND: {nodetemp.get_ssh_command()}\")\n",
    "except Exception as e:\n",
    "    print(f\"Exception: {e}\")"
   ]
  },
  {
   "cell_type": "markdown",
   "id": "1e67e5f5-8a9a-48c9-8774-1f6b4227f1d8",
   "metadata": {},
   "source": [
    "#### DELETE SLICE\n"
   ]
  },
  {
   "cell_type": "code",
   "execution_count": null,
   "id": "704c4604-2e8f-4f0f-948d-947881b61a4a",
   "metadata": {},
   "outputs": [],
   "source": [
    "'''\n",
    "try:\n",
    "    slice = fablib.get_slice(name=slice_name)\n",
    "    slice.delete()\n",
    "except Exception as e:\n",
    "    print(f\"Exception: {e}\")\n",
    "'''"
   ]
  }
 ],
 "metadata": {
  "kernelspec": {
   "display_name": "Python 3 (ipykernel)",
   "language": "python",
   "name": "python3"
  },
  "language_info": {
   "codemirror_mode": {
    "name": "ipython",
    "version": 3
   },
   "file_extension": ".py",
   "mimetype": "text/x-python",
   "name": "python",
   "nbconvert_exporter": "python",
   "pygments_lexer": "ipython3",
   "version": "3.9.2"
  }
 },
 "nbformat": 4,
 "nbformat_minor": 5
}
